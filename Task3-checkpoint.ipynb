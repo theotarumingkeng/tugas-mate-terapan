{
 "cells": [
  {
   "cell_type": "markdown",
   "metadata": {},
   "source": [
    "# Task 3 : Integral"
   ]
  },
  {
   "cell_type": "code",
   "execution_count": 1,
   "metadata": {},
   "outputs": [],
   "source": [
    "import sympy as sym\n",
    "from sympy import *"
   ]
  },
  {
   "cell_type": "markdown",
   "metadata": {},
   "source": [
    "Kita mengganti symbol menjadi 'x'"
   ]
  },
  {
   "cell_type": "code",
   "execution_count": 2,
   "metadata": {},
   "outputs": [],
   "source": [
    "sym.init_printing()\n",
    "x = sym.Symbol('x')"
   ]
  },
  {
   "cell_type": "code",
   "execution_count": 3,
   "metadata": {},
   "outputs": [
    {
     "name": "stdout",
     "output_type": "stream",
     "text": [
      "Soal Nomor 7\n"
     ]
    },
    {
     "data": {
      "image/png": "[encoded data removed]",
      "text/latex": [
       "$\\displaystyle \\int \\left(- 7 \\sqrt{x^{5}} + \\sqrt{x^{7}} + 17 \\sqrt{x^{10}}\\right)\\, dx$"
      ],
      "text/plain": [
       "⌠                                         \n",
       "⎮ ⎛       ____      ____         _____⎞   \n",
       "⎮ ⎜      ╱  5      ╱  7         ╱  10 ⎟   \n",
       "⎮ ⎝- 7⋅╲╱  x   + ╲╱  x   + 17⋅╲╱  x   ⎠ dx\n",
       "⌡                                         "
      ]
     },
     "execution_count": 3,
     "metadata": {},
     "output_type": "execute_result"
    }
   ],
   "source": [
    "print(\"Soal Nomor 7\")\n",
    "sym.Integral(sym.sqrt(x**7)-7*sym.sqrt(x**5)+17*sym.sqrt(x**10))"
   ]
  },
  {
   "cell_type": "markdown",
   "metadata": {},
   "source": [
    "Pada soal nomor 7 kami menggunakan fungsi integral untuk menampilkan output soal seperti yang telah diinput. Dan menggunakan sqrt untuk menampilkan akar pada suatu nilai"
   ]
  },
  {
   "cell_type": "code",
   "execution_count": 4,
   "metadata": {},
   "outputs": [
    {
     "name": "stdout",
     "output_type": "stream",
     "text": [
      "Penyelesaian:\n"
     ]
    },
    {
     "data": {
      "image/png": "[encoded data removed]",
      "text/latex": [
       "$\\displaystyle \\frac{17 x^{6}}{6} - 2 x \\sqrt{x^{5}} + \\frac{2 x \\sqrt{x^{7}}}{9}$"
      ],
      "text/plain": [
       "                             ____\n",
       "    6          ____         ╱  7 \n",
       "17⋅x          ╱  5    2⋅x⋅╲╱  x  \n",
       "───── - 2⋅x⋅╲╱  x   + ───────────\n",
       "  6                        9     "
      ]
     },
     "execution_count": 4,
     "metadata": {},
     "output_type": "execute_result"
    }
   ],
   "source": [
    "print(\"Penyelesaian:\")\n",
    "sym.Integral(sym.sqrt(x**7)-7*sym.sqrt(x**5)+17*sym.sqrt(x**10)).doit()"
   ]
  },
  {
   "cell_type": "markdown",
   "metadata": {},
   "source": [
    "Kami menggunakan doit untuk menghitung jawaban dari soal yang telah kita input"
   ]
  },
  {
   "cell_type": "code",
   "execution_count": 6,
   "metadata": {
    "scrolled": true
   },
   "outputs": [
    {
     "name": "stdout",
     "output_type": "stream",
     "text": [
      "Soal Nomor 2\n"
     ]
    },
    {
     "data": {
      "image/png": "[encoded data removed]",
      "text/latex": [
       "$\\displaystyle \\int \\left(- 5 z^{16} - 48 z^{11} + z^{7}\\right)\\, dz$"
      ],
      "text/plain": [
       "⌠                           \n",
       "⎮ ⎛     16       11    7⎞   \n",
       "⎮ ⎝- 5⋅z   - 48⋅z   + z ⎠ dz\n",
       "⌡                           "
      ]
     },
     "execution_count": 6,
     "metadata": {},
     "output_type": "execute_result"
    }
   ],
   "source": [
    "print(\"Soal Nomor 2\")\n",
    "z = sym.Symbol('z')\n",
    "sym.Integral(z**7-48*z**11-5*z**16)"
   ]
  },
  {
   "cell_type": "markdown",
   "metadata": {},
   "source": [
    "Pada soal nomor 2 kami menggunakan symbol yaitu 'z' dan menggunakan fungsi integral untuk menampilkan output soal"
   ]
  },
  {
   "cell_type": "code",
   "execution_count": 7,
   "metadata": {},
   "outputs": [
    {
     "name": "stdout",
     "output_type": "stream",
     "text": [
      "Penyelesaian:\n"
     ]
    },
    {
     "data": {
      "image/png": "[encoded data removed]",
      "text/latex": [
       "$\\displaystyle - \\frac{5 z^{17}}{17} - 4 z^{12} + \\frac{z^{8}}{8}$"
      ],
      "text/plain": [
       "     17            8\n",
       "  5⋅z        12   z \n",
       "- ───── - 4⋅z   + ──\n",
       "    17            8 "
      ]
     },
     "execution_count": 7,
     "metadata": {},
     "output_type": "execute_result"
    }
   ],
   "source": [
    "print(\"Penyelesaian:\")\n",
    "sym.Integral(z**7-48*z**11-5*z**16).doit()"
   ]
  },
  {
   "cell_type": "markdown",
   "metadata": {},
   "source": [
    "Pada tahap ini kita masih menggunakan perintah print untuk menunjukkan bahwa outputnya menunjukkan soal nomor 12. Kita kemudian menggunakan fungsi Integral dan masih menggunakan simbol z seperti sebelumnya."
   ]
  },
  {
   "cell_type": "code",
   "execution_count": 8,
   "metadata": {
    "scrolled": true
   },
   "outputs": [
    {
     "name": "stdout",
     "output_type": "stream",
     "text": [
      "Soal Nomor 12\n"
     ]
    },
    {
     "data": {
      "image/png": "[encoded data removed]",
      "text/latex": [
       "$\\displaystyle \\int \\frac{z^{8} - 6 z^{5} + 4 z^{3} - 2}{z^{4}}\\, dz$"
      ],
      "text/plain": [
       "⌠                        \n",
       "⎮  8      5      3       \n",
       "⎮ z  - 6⋅z  + 4⋅z  - 2   \n",
       "⎮ ──────────────────── dz\n",
       "⎮           4            \n",
       "⎮          z             \n",
       "⌡                        "
      ]
     },
     "execution_count": 8,
     "metadata": {},
     "output_type": "execute_result"
    }
   ],
   "source": [
    "print(\"Soal Nomor 12\")\n",
    "sym.Integral((z**8-6*z**5+4*z**3-2)/(z**4))"
   ]
  },
  {
   "cell_type": "markdown",
   "metadata": {},
   "source": [
    "elanjutnya kita menggunakan perintah print untuk menandakan bahwa output yang dihasilkan adalah penyelesaian dari nomor 12. Kita juga menggunakan fungsi Integral dan metode doit() untuk mengevaluasi soal integral tersebut."
   ]
  },
  {
   "cell_type": "code",
   "execution_count": 9,
   "metadata": {},
   "outputs": [
    {
     "name": "stdout",
     "output_type": "stream",
     "text": [
      "Penyelesaian:\n"
     ]
    },
    {
     "data": {
      "image/png": "[encoded data removed]",
      "text/latex": [
       "$\\displaystyle \\frac{z^{5}}{5} - 3 z^{2} + 4 \\log{\\left(z \\right)} + \\frac{2}{3 z^{3}}$"
      ],
      "text/plain": [
       " 5                         \n",
       "z       2               2  \n",
       "── - 3⋅z  + 4⋅log(z) + ────\n",
       "5                         3\n",
       "                       3⋅z "
      ]
     },
     "execution_count": 9,
     "metadata": {},
     "output_type": "execute_result"
    }
   ],
   "source": [
    "print(\"Penyelesaian:\")\n",
    "sym.Integral((z**8-6*z**5+4*z**3-2)/(z**4)).doit()"
   ]
  },
  {
   "cell_type": "code",
   "execution_count": null,
   "metadata": {},
   "outputs": [],
   "source": []
  }
 ],
 "metadata": {
  "kernelspec": {
   "display_name": "Python 3",
   "language": "python",
   "name": "python3"
  },
  "language_info": {
   "codemirror_mode": {
    "name": "ipython",
    "version": 3
   },
   "file_extension": ".py",
   "mimetype": "text/x-python",
   "name": "python",
   "nbconvert_exporter": "python",
   "pygments_lexer": "ipython3",
   "version": "3.7.3"
  }
 },
 "nbformat": 4,
 "nbformat_minor": 2
}
