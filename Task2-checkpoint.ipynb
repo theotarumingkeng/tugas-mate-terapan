{
 "cells": [
  {
   "cell_type": "markdown",
   "metadata": {},
   "source": [
    "# TASK 2 : TURUNAN"
   ]
  },
  {
   "cell_type": "markdown",
   "metadata": {},
   "source": [
    "Pertama-tama kita mengimport sympy as sym agar dapat menggunakan fungsi yang ada pada sympy. Selanjutnya kita membuat simbol t dengan menggunakan fungsi symbol pada sympy. Kita juga menggunakan perintah print untuk memberi tanda bahwa hasil outputnya merupakan soal nomor 2 Kemudian kita membuat variabel y yang berisi soal dari nomor 2 lalu kita menggunakan fungsi Derivative untuk menampilkan soal nomor 2."
   ]
  },
  {
   "cell_type": "code",
   "execution_count": 17,
   "metadata": {},
   "outputs": [
    {
     "name": "stdout",
     "output_type": "stream",
     "text": [
      "Soal Nomor 2\n"
     ]
    },
    {
     "data": {
      "image/png": "[encoded data removed]",
      "text/latex": [
       "$\\displaystyle \\frac{d}{d t} \\left(2 t^{4} - 10 t^{2} + 13 t\\right)$"
      ],
      "text/plain": [
       "d ⎛   4       2       ⎞\n",
       "──⎝2⋅t  - 10⋅t  + 13⋅t⎠\n",
       "dt                     "
      ]
     },
     "execution_count": 17,
     "metadata": {},
     "output_type": "execute_result"
    }
   ],
   "source": [
    "import sympy as sym\n",
    "sym.init_printing()\n",
    "t = sym.Symbol(\"t\")\n",
    "print(\"Soal Nomor 2\")\n",
    "y = 2*t**4-10*t**2+13*t\n",
    "sym.Derivative(y)"
   ]
  },
  {
   "cell_type": "markdown",
   "metadata": {},
   "source": [
    "Pada tahap ini kita menggunakan perintah print untuk memberi tanda bahwa hasil output merupakan penyelesaian dari nomor 2. Kemudian menggunakan fungsi Derivative serta menggunakan metode doit() untuk mengevaluasi turunan tersebut."
   ]
  },
  {
   "cell_type": "code",
   "execution_count": 19,
   "metadata": {
    "scrolled": true
   },
   "outputs": [
    {
     "name": "stdout",
     "output_type": "stream",
     "text": [
      "Penyelesaian =\n"
     ]
    },
    {
     "data": {
      "image/png": "[encoded data removed]",
      "text/latex": [
       "$\\displaystyle 8 t^{3} - 20 t + 13$"
      ],
      "text/plain": [
       "   3            \n",
       "8⋅t  - 20⋅t + 13"
      ]
     },
     "execution_count": 19,
     "metadata": {},
     "output_type": "execute_result"
    }
   ],
   "source": [
    "print(\"Penyelesaian =\")\n",
    "sym.Derivative(y).doit()"
   ]
  },
  {
   "cell_type": "code",
   "execution_count": null,
   "metadata": {},
   "outputs": [],
   "source": [
    "Pada tahap ini sama seperti sebelumnya namun kita membuat variabel baru yaitu f yang berisi soal nomor 7. Selanjutnya kita menggunakan fungsi Derivative untuk menampilkan soal nomor 7."
   ]
  },
  {
   "cell_type": "code",
   "execution_count": 50,
   "metadata": {},
   "outputs": [
    {
     "name": "stdout",
     "output_type": "stream",
     "text": [
      "Soal Nomor 7\n"
     ]
    },
    {
     "data": {
      "image/png": "[encoded data removed]",
      "text/latex": [
       "$\\displaystyle \\frac{d}{d t} \\left(\\frac{4}{t} - \\frac{1}{6 t^{3}} + \\frac{8}{t^{5}}\\right)$"
      ],
      "text/plain": [
       "d ⎛4    1     8 ⎞\n",
       "──⎜─ - ──── + ──⎟\n",
       "dt⎜t      3    5⎟\n",
       "  ⎝    6⋅t    t ⎠"
      ]
     },
     "execution_count": 50,
     "metadata": {},
     "output_type": "execute_result"
    }
   ],
   "source": [
    "print(\"Soal Nomor 7\")\n",
    "f = 4/t - 1/(6*t**3) + 8/t**5\n",
    "sym.Derivative(f)"
   ]
  },
  {
   "cell_type": "markdown",
   "metadata": {},
   "source": [
    "Pada tahap ini kita menggunakan perintah print untuk memberi tanda bahwa hasil output merupakan penyelesaian dari nomor 7. Kemudian menggunakan fungsi Derivative serta menggunakan metode doit() untuk mengevaluasi turunan tersebut."
   ]
  },
  {
   "cell_type": "code",
   "execution_count": 52,
   "metadata": {},
   "outputs": [
    {
     "name": "stdout",
     "output_type": "stream",
     "text": [
      "Penyelesaian = \n"
     ]
    },
    {
     "data": {
      "image/png": "[encoded data removed]",
      "text/latex": [
       "$\\displaystyle - \\frac{4}{t^{2}} + \\frac{1}{2 t^{4}} - \\frac{40}{t^{6}}$"
      ],
      "text/plain": [
       "  4     1     40\n",
       "- ── + ──── - ──\n",
       "   2      4    6\n",
       "  t    2⋅t    t "
      ]
     },
     "execution_count": 52,
     "metadata": {},
     "output_type": "execute_result"
    }
   ],
   "source": [
    "print(\"Penyelesaian = \")\n",
    "sym.Derivative(f).doit()"
   ]
  },
  {
   "cell_type": "markdown",
   "metadata": {},
   "source": [
    "Pada tahap ini kita masih menggunakan variabel f namun isinya merupakan soal nomor 12 serta kita membuat simbol y. Selanjutnya kita menggunakan fungsi Derivative untuk menampilkan soal nomor 12."
   ]
  },
  {
   "cell_type": "code",
   "execution_count": 68,
   "metadata": {
    "scrolled": false
   },
   "outputs": [
    {
     "name": "stdout",
     "output_type": "stream",
     "text": [
      "Soal Nomor 12\n"
     ]
    },
    {
     "data": {
      "image/png": "[encoded data removed]",
      "text/latex": [
       "$\\displaystyle \\frac{d}{d y} \\frac{y^{5} - 5 y^{3} + 2 y}{y^{3}}$"
      ],
      "text/plain": [
       "  ⎛ 5      3      ⎞\n",
       "d ⎜y  - 5⋅y  + 2⋅y⎟\n",
       "──⎜───────────────⎟\n",
       "dy⎜        3      ⎟\n",
       "  ⎝       y       ⎠"
      ]
     },
     "execution_count": 68,
     "metadata": {},
     "output_type": "execute_result"
    }
   ],
   "source": [
    "print(\"Soal Nomor 12\")\n",
    "y = sym.Symbol(\"y\")\n",
    "f = ((y**5) - (5*y**3) + (2*y))/(y**3)\n",
    "sym.Derivative(f)"
   ]
  },
  {
   "cell_type": "markdown",
   "metadata": {},
   "source": [
    "Pada tahap ini kita menggunakan perintah print untuk memberi tanda bahwa hasil output merupakan penyelesaian dari nomor 12. Kemudian menggunakan fungsi Derivative serta menggunakan metode doit() untuk mengevaluasi turunan tersebut.\n",
    "\n"
   ]
  },
  {
   "cell_type": "code",
   "execution_count": 10,
   "metadata": {},
   "outputs": [
    {
     "name": "stdout",
     "output_type": "stream",
     "text": [
      "Penyelesaian =\n"
     ]
    },
    {
     "data": {
      "text/latex": [
       "$\\displaystyle 2 y - \\frac{4}{y^{3}}$"
      ],
      "text/plain": [
       "2*y - 4/y**3"
      ]
     },
     "execution_count": 10,
     "metadata": {},
     "output_type": "execute_result"
    }
   ],
   "source": [
    "print(\"Penyelesaian =\")\n",
    "sym.Derivative(f).doit()"
   ]
  },
  {
   "cell_type": "markdown",
   "metadata": {},
   "source": [
    "Tahap dibawah kita menggunakan simbol t dan membuat variabel s. Kita juga menggunakan fungsi Derivatif untuk menampilkan soal nomor 17."
   ]
  },
  {
   "cell_type": "code",
   "execution_count": 2,
   "metadata": {},
   "outputs": [
    {
     "name": "stdout",
     "output_type": "stream",
     "text": [
      "Soal Nomor 17\n",
      "The position of an object at any time t is given by\n"
     ]
    },
    {
     "data": {
      "text/latex": [
       "$\\displaystyle \\frac{d}{d t} \\left(3 t^{4} - 40 t^{3} + 126 t^{2} - 9\\right)$"
      ],
      "text/plain": [
       "Derivative(3*t**4 - 40*t**3 + 126*t**2 - 9, t)"
      ]
     },
     "execution_count": 2,
     "metadata": {},
     "output_type": "execute_result"
    }
   ],
   "source": [
    "import sympy as sym\n",
    "print(\"Soal Nomor 17\")\n",
    "t = sym.Symbol(\"t\")\n",
    "s = 3*t**4 - 40*t**3 + 126*t**2 - 9\n",
    "print(\"The position of an object at any time t is given by\")\n",
    "sym.Derivative(s)"
   ]
  },
  {
   "cell_type": "code",
   "execution_count": null,
   "metadata": {},
   "outputs": [],
   "source": [
    "Untuk menyelesaikan soal dibawah ini kita harus memberikan output yang menghasilkan operasi dari turunan pada nomor 17 yaitu dengan membuat variabel baru yaitu s1 kemudian menggunakan fungsi Derivatif dan metode doit() untuk mengevaluasi."
   ]
  },
  {
   "cell_type": "code",
   "execution_count": 3,
   "metadata": {
    "scrolled": true
   },
   "outputs": [
    {
     "name": "stdout",
     "output_type": "stream",
     "text": [
      "a) Determine the velocity of the object at any time t\n"
     ]
    },
    {
     "data": {
      "text/latex": [
       "$\\displaystyle 12 t^{3} - 120 t^{2} + 252 t$"
      ],
      "text/plain": [
       "12*t**3 - 120*t**2 + 252*t"
      ]
     },
     "execution_count": 3,
     "metadata": {},
     "output_type": "execute_result"
    }
   ],
   "source": [
    "print(\"a) Determine the velocity of the object at any time t\")\n",
    "s1 = sym.Derivative(s).doit()\n",
    "s1\n"
   ]
  },
  {
   "cell_type": "markdown",
   "metadata": {},
   "source": [
    "Untuk menyelesaikan soal bagian b dari nomor 17, kita menggunakan fungsi solve dari sympy yang berguna untuk menyelesaikan persamaan dari hasil turunan sebelumnya."
   ]
  },
  {
   "cell_type": "code",
   "execution_count": 29,
   "metadata": {
    "scrolled": true
   },
   "outputs": [
    {
     "name": "stdout",
     "output_type": "stream",
     "text": [
      "Penyelesaian =\n",
      "a)\n"
     ]
    },
    {
     "data": {
      "text/latex": [
       "$\\displaystyle 12 t^{3} - 120 t^{2} + 252 t$"
      ],
      "text/plain": [
       "12*t**3 - 120*t**2 + 252*t"
      ]
     },
     "execution_count": 29,
     "metadata": {},
     "output_type": "execute_result"
    }
   ],
   "source": [
    "print(\"Penyelesaian =\")\n",
    "print (\"a)\")\n",
    "s1 =sym.Derivative(s).doit()\n",
    "s1"
   ]
  },
  {
   "cell_type": "code",
   "execution_count": 4,
   "metadata": {},
   "outputs": [
    {
     "name": "stdout",
     "output_type": "stream",
     "text": [
      "b) Does the object ever stop changing?\n"
     ]
    },
    {
     "data": {
      "text/plain": [
       "[{t: 0}, {t: 3}, {t: 7}]"
      ]
     },
     "execution_count": 4,
     "metadata": {},
     "output_type": "execute_result"
    }
   ],
   "source": [
    "print(\"b) Does the object ever stop changing?\")\n",
    "s2 = sym.solve([12*t**3 - 120*t**2 +252*t])\n",
    "s2"
   ]
  },
  {
   "cell_type": "code",
   "execution_count": null,
   "metadata": {},
   "outputs": [],
   "source": []
  },
  {
   "cell_type": "code",
   "execution_count": null,
   "metadata": {},
   "outputs": [],
   "source": []
  },
  {
   "cell_type": "code",
   "execution_count": null,
   "metadata": {},
   "outputs": [],
   "source": []
  }
 ],
 "metadata": {
  "kernelspec": {
   "display_name": "Python 3",
   "language": "python",
   "name": "python3"
  },
  "language_info": {
   "codemirror_mode": {
    "name": "ipython",
    "version": 3
   },
   "file_extension": ".py",
   "mimetype": "text/x-python",
   "name": "python",
   "nbconvert_exporter": "python",
   "pygments_lexer": "ipython3",
   "version": "3.7.3"
  }
 },
 "nbformat": 4,
 "nbformat_minor": 2
}
